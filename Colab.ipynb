{
  "cells": [
    {
      "cell_type": "markdown",
      "metadata": {
        "id": "view-in-github",
        "colab_type": "text"
      },
      "source": [
        "<a href=\"https://colab.research.google.com/github/naylanpool/desihigh/blob/main/Colab.ipynb\" target=\"_parent\"><img src=\"https://colab.research.google.com/assets/colab-badge.svg\" alt=\"Open In Colab\"/></a>"
      ]
    },
    {
      "cell_type": "markdown",
      "id": "79ddf98a",
      "metadata": {
        "id": "79ddf98a"
      },
      "source": [
        "# Welcome to DESI High @ Google Collab!"
      ]
    },
    {
      "cell_type": "markdown",
      "id": "5c7d4a3d",
      "metadata": {
        "id": "5c7d4a3d"
      },
      "source": [
        "![title](https://github.com/naylanpool/desihigh/blob/main/desihigh/images/colab.webp?raw=1)"
      ]
    },
    {
      "cell_type": "code",
      "execution_count": 1,
      "id": "1a017f3b",
      "metadata": {
        "id": "1a017f3b"
      },
      "outputs": [],
      "source": [
        "%load_ext autoreload\n",
        "%autoreload 2"
      ]
    },
    {
      "cell_type": "markdown",
      "id": "0f903986",
      "metadata": {
        "id": "0f903986"
      },
      "source": [
        "An exciting adventure awaits you as you will soon have at your fingertips hot-off-the-telescope DESI data to run your own experiments."
      ]
    },
    {
      "cell_type": "markdown",
      "id": "fe224eea",
      "metadata": {
        "id": "fe224eea"
      },
      "source": [
        "For you to create and save your own experiments, we'll run everything on Google Colab.  This will leave you with a copy of any additions on your Google Drive."
      ]
    },
    {
      "cell_type": "markdown",
      "id": "0c38b0ba",
      "metadata": {
        "id": "0c38b0ba"
      },
      "source": [
        "First, we'll need the starter script:"
      ]
    },
    {
      "cell_type": "code",
      "execution_count": 2,
      "id": "269a5fae",
      "metadata": {
        "id": "269a5fae",
        "outputId": "4c30dc4c-623a-40c6-9595-e052df53d0b9",
        "colab": {
          "base_uri": "https://localhost:8080/"
        }
      },
      "outputs": [
        {
          "output_type": "stream",
          "name": "stdout",
          "text": [
            "--2024-02-16 16:07:35--  https://raw.githubusercontent.com/michaelJwilson/desihigh/main/setup_colab.py\n",
            "Resolving raw.githubusercontent.com (raw.githubusercontent.com)... 185.199.108.133, 185.199.109.133, 185.199.110.133, ...\n",
            "Connecting to raw.githubusercontent.com (raw.githubusercontent.com)|185.199.108.133|:443... connected.\n",
            "HTTP request sent, awaiting response... 200 OK\n",
            "Length: 1127 (1.1K) [text/plain]\n",
            "Saving to: ‘setup_colab.py’\n",
            "\n",
            "\rsetup_colab.py        0%[                    ]       0  --.-KB/s               \rsetup_colab.py      100%[===================>]   1.10K  --.-KB/s    in 0s      \n",
            "\n",
            "2024-02-16 16:07:35 (95.1 MB/s) - ‘setup_colab.py’ saved [1127/1127]\n",
            "\n"
          ]
        }
      ],
      "source": [
        "! wget -O setup_colab.py https://raw.githubusercontent.com/michaelJwilson/desihigh/main/setup_colab.py"
      ]
    },
    {
      "cell_type": "markdown",
      "id": "0e65366d",
      "metadata": {
        "id": "0e65366d"
      },
      "source": [
        "So, without further ado, the magic incantation:"
      ]
    },
    {
      "cell_type": "code",
      "execution_count": 3,
      "id": "2d9fe293",
      "metadata": {
        "id": "2d9fe293",
        "outputId": "973ad63b-0844-4eb4-8197-b4aa4057d078",
        "colab": {
          "base_uri": "https://localhost:8080/"
        }
      },
      "outputs": [
        {
          "output_type": "stream",
          "name": "stdout",
          "text": [
            "Mounted at /content/drive/\n",
            "Failed to import desihigh; Cloning.\n",
            "git clone https://github.com/michaelJwilson/desihigh.git --depth=1\n",
            "Successfully cloned DESI High to Google Drive.\n"
          ]
        }
      ],
      "source": [
        "import setup_colab"
      ]
    },
    {
      "cell_type": "markdown",
      "id": "44a7ba81",
      "metadata": {
        "id": "44a7ba81"
      },
      "source": [
        "Congratulations, you've just loaded your first Python library!  And it's a useful one aswell."
      ]
    },
    {
      "cell_type": "markdown",
      "id": "b3a627e5",
      "metadata": {
        "id": "b3a627e5"
      },
      "source": [
        "Now, we can get started with the real thing.  Buckle up!"
      ]
    },
    {
      "cell_type": "markdown",
      "id": "5f541ea9",
      "metadata": {
        "id": "5f541ea9"
      },
      "source": [
        "[https://www.githubtocolab.com/michaelJwilson/desihigh](https://www.githubtocolab.com/michaelJwilson/desihigh)"
      ]
    },
    {
      "cell_type": "markdown",
      "source": [
        "What was your first notebook?"
      ],
      "metadata": {
        "id": "4u8iXZYatAdA"
      },
      "id": "4u8iXZYatAdA"
    }
  ],
  "metadata": {
    "kernelspec": {
      "display_name": "Python 3 (ipykernel)",
      "language": "python",
      "name": "python3"
    },
    "language_info": {
      "codemirror_mode": {
        "name": "ipython",
        "version": 3
      },
      "file_extension": ".py",
      "mimetype": "text/x-python",
      "name": "python",
      "nbconvert_exporter": "python",
      "pygments_lexer": "ipython3",
      "version": "3.7.11"
    },
    "colab": {
      "provenance": [],
      "include_colab_link": true
    }
  },
  "nbformat": 4,
  "nbformat_minor": 5
}